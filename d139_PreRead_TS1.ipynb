{
  "nbformat": 4,
  "nbformat_minor": 0,
  "metadata": {
    "colab": {
      "provenance": []
    },
    "kernelspec": {
      "name": "python3",
      "display_name": "Python 3"
    },
    "language_info": {
      "name": "python"
    }
  },
  "cells": [
    {
      "cell_type": "markdown",
      "source": [
        "## Content\n",
        "- datetime numpy\n",
        "- datetime pandas\n",
        "- pvalue\n"
      ],
      "metadata": {
        "id": "iAOTgCsm0qP1"
      }
    },
    {
      "cell_type": "markdown",
      "source": [
        "## NumPy datetime64 type"
      ],
      "metadata": {
        "id": "9ITYn46wphY4"
      }
    },
    {
      "cell_type": "markdown",
      "source": [
        "If we're given data consisting of date and/or time, we have two ways for storing it:\n",
        "- as a string\n",
        "- as a Numpy datetime64 object\n",
        "\n",
        "We prefer using the Numpy datetime64 format, because we get additional functionalities, that we don't have on treating it as a string.\n",
        "\n",
        "**Note:**\n",
        "- `64` in `datetime64` means that 64 bits are used to store the date and time"
      ],
      "metadata": {
        "id": "_vHuHut1prlM"
      }
    },
    {
      "cell_type": "markdown",
      "source": [
        "### Format\n",
        "\n",
        "Different countries write dates differently, for example,\n",
        "- In Europe, 06/10/18 is the 6th October and in America it’s June 10th.\n",
        "\n",
        "So, we need a standardized input for our functions. Thankfully, a global standard already exists ISO 8601.\n",
        "\n",
        "The basics are:\n",
        "\n",
        "- `YYYY-MM-DD`: for dates,\n",
        " - so 2018-10-06 is 6th October 2018\n",
        "- `hh:mm:ss`: for times,\n",
        " - so 13:21:40 is 13:21 (1.21 pm) and 40 seconds\n",
        "- For milliseconds use a `full-stop (.)`,\n",
        " - 13:21:40.3 (adding on 3 milliseconds).\n",
        "\n"
      ],
      "metadata": {
        "id": "bQ4o1BkjD-Vm"
      }
    },
    {
      "cell_type": "markdown",
      "source": [
        "To input this to NumPy, we can either\n",
        "- Put a `space` between the date and time\n",
        " - '2019-10-23 13:21'\n",
        "- Or put a capital T between them\n",
        " -  '2019-10-21T13:21'"
      ],
      "metadata": {
        "id": "TUHK4tkiFXCN"
      }
    },
    {
      "cell_type": "code",
      "source": [
        "import numpy as np"
      ],
      "metadata": {
        "id": "4K7FAgLaFsp_"
      },
      "execution_count": null,
      "outputs": []
    },
    {
      "cell_type": "code",
      "execution_count": null,
      "metadata": {
        "id": "uS1aNEp-0jWI",
        "colab": {
          "base_uri": "https://localhost:8080/"
        },
        "outputId": "296e427e-a22c-48da-a0f2-cdcdd85dcb4e"
      },
      "outputs": [
        {
          "output_type": "execute_result",
          "data": {
            "text/plain": [
              "numpy.datetime64('2000-11-22')"
            ]
          },
          "metadata": {},
          "execution_count": 5
        }
      ],
      "source": [
        "# 22nd November 2000 can be written as\n",
        "np.datetime64('2000-11-22')\n"
      ]
    },
    {
      "cell_type": "code",
      "source": [
        "# 7th June 1987 at 16:22:44 (twenty two minutes past four in the afternoon and forty four seconds)\n",
        "np.datetime64('2000-11-22 16:22:44')"
      ],
      "metadata": {
        "colab": {
          "base_uri": "https://localhost:8080/"
        },
        "id": "4IMnq5a5FygT",
        "outputId": "683eb9e5-40e5-492e-a493-7751de82822a"
      },
      "execution_count": null,
      "outputs": [
        {
          "output_type": "execute_result",
          "data": {
            "text/plain": [
              "numpy.datetime64('2000-11-22T16:22:44')"
            ]
          },
          "metadata": {},
          "execution_count": 6
        }
      ]
    },
    {
      "cell_type": "markdown",
      "source": [
        "### Accessing parts of datetime64 object\n",
        "Suppose we have a datetime object, and we wish to know which month this date lies in.\n",
        "\n",
        "Given a specific datetime, you can change it to a specific time unit by entering it as a second parameter."
      ],
      "metadata": {
        "id": "5oivaYY0Gb32"
      }
    },
    {
      "cell_type": "code",
      "source": [
        "datetime = np.datetime64('2000-11-22 16:22:44')\n",
        "day = np.datetime64(datetime, 'D')\n",
        "month = np.datetime64(datetime, 'M')\n",
        "\n",
        "month, day"
      ],
      "metadata": {
        "colab": {
          "base_uri": "https://localhost:8080/"
        },
        "id": "XuKFN9tFG1lK",
        "outputId": "d85bcbc4-4d1f-41a9-8824-2885862c309a"
      },
      "execution_count": null,
      "outputs": [
        {
          "output_type": "execute_result",
          "data": {
            "text/plain": [
              "(numpy.datetime64('2000-11'), numpy.datetime64('2000-11-22'))"
            ]
          },
          "metadata": {},
          "execution_count": 8
        }
      ]
    },
    {
      "cell_type": "markdown",
      "source": [
        "### Datetime Arithmetic\n",
        "\n",
        "#### Q. What comes next after 12pm on 12th December 1999?\n",
        "\n",
        "Depending on the time unit you are counting in, it could be anything:\n",
        "\n",
        "- Counting forwards in hours: 1pm on 12th December 1999\n",
        "- Counting backwards in days: 12pm on 11th December 1999\n",
        "- Counting forwards in years: 12th December 2000\n",
        "\n",
        "Each np.datetime64 object has a time unit associated with it.\n",
        "- So if we '+ 5' to our ‘day’ object, we will go forwards 5 days.\n",
        "- And if we '- 5' from our month object, we’ll go backwards 5 months:"
      ],
      "metadata": {
        "id": "_IRTAv7PHoJa"
      }
    },
    {
      "cell_type": "code",
      "source": [
        "day + 5"
      ],
      "metadata": {
        "colab": {
          "base_uri": "https://localhost:8080/"
        },
        "id": "wD3mO_HRHGwi",
        "outputId": "9fd1a622-20e1-4028-8edc-3a99ac190368"
      },
      "execution_count": null,
      "outputs": [
        {
          "output_type": "execute_result",
          "data": {
            "text/plain": [
              "numpy.datetime64('2000-11-27')"
            ]
          },
          "metadata": {},
          "execution_count": 9
        }
      ]
    },
    {
      "cell_type": "code",
      "source": [
        "month - 5"
      ],
      "metadata": {
        "colab": {
          "base_uri": "https://localhost:8080/"
        },
        "id": "4TAwVVGNIAft",
        "outputId": "7517339e-ab1b-4256-d6c1-bed3707e9e1c"
      },
      "execution_count": null,
      "outputs": [
        {
          "output_type": "execute_result",
          "data": {
            "text/plain": [
              "numpy.datetime64('2000-06')"
            ]
          },
          "metadata": {},
          "execution_count": 10
        }
      ]
    },
    {
      "cell_type": "markdown",
      "source": [
        "## Pandas datetime"
      ],
      "metadata": {
        "id": "iobCtZG2NxYZ"
      }
    },
    {
      "cell_type": "markdown",
      "source": [
        "A pandas Timestamp is a moment in time very similar to a datetime but with much more functionality.\n",
        "\n",
        "You can construct them with either `pd.Timestamp` or `pd.to_datetime`."
      ],
      "metadata": {
        "id": "yKKiRljNN2bE"
      }
    },
    {
      "cell_type": "code",
      "source": [
        "import pandas as pd"
      ],
      "metadata": {
        "id": "RL0X_SyuOIj2"
      },
      "execution_count": null,
      "outputs": []
    },
    {
      "cell_type": "code",
      "source": [
        "#defaults to nanoseconds\n",
        "pd.Timestamp(1239.1238934)"
      ],
      "metadata": {
        "colab": {
          "base_uri": "https://localhost:8080/"
        },
        "id": "oWzvwmpROGu7",
        "outputId": "ddd2bf7a-baa6-4d52-e5b7-8578e868fd90"
      },
      "execution_count": null,
      "outputs": [
        {
          "output_type": "execute_result",
          "data": {
            "text/plain": [
              "Timestamp('1970-01-01 00:00:00.000001239')"
            ]
          },
          "metadata": {},
          "execution_count": 2
        }
      ]
    },
    {
      "cell_type": "code",
      "source": [
        "# change units\n",
        "pd.Timestamp(1239.1238934, unit='D')"
      ],
      "metadata": {
        "colab": {
          "base_uri": "https://localhost:8080/"
        },
        "id": "x3D1wRD5Oa6n",
        "outputId": "f1668976-d337-4c5a-a322-269ee2a1a8bc"
      },
      "execution_count": null,
      "outputs": [
        {
          "output_type": "execute_result",
          "data": {
            "text/plain": [
              "Timestamp('1973-05-24 02:58:24.389760')"
            ]
          },
          "metadata": {},
          "execution_count": 3
        }
      ]
    },
    {
      "cell_type": "code",
      "source": [
        "# partial strings work\n",
        "pd.Timestamp('2017-10-24 05')"
      ],
      "metadata": {
        "colab": {
          "base_uri": "https://localhost:8080/"
        },
        "id": "00QJvbTDOotW",
        "outputId": "53cd8f2d-7520-42fe-8ba0-ef37795b0470"
      },
      "execution_count": null,
      "outputs": [
        {
          "output_type": "execute_result",
          "data": {
            "text/plain": [
              "Timestamp('2017-10-24 05:00:00')"
            ]
          },
          "metadata": {},
          "execution_count": 4
        }
      ]
    },
    {
      "cell_type": "markdown",
      "source": [
        "`pd.to_datetime` works very similarly (with a few more options) and can convert a list of strings into Timestamps."
      ],
      "metadata": {
        "id": "jp9nCKz6OxrT"
      }
    },
    {
      "cell_type": "code",
      "source": [
        "date = pd.to_datetime('2017-10-24 05')\n",
        "date"
      ],
      "metadata": {
        "colab": {
          "base_uri": "https://localhost:8080/"
        },
        "id": "SpqAQJfOOz-k",
        "outputId": "90562339-ccc0-45c8-bee6-8731dc4bd058"
      },
      "execution_count": null,
      "outputs": [
        {
          "output_type": "execute_result",
          "data": {
            "text/plain": [
              "Timestamp('2017-10-24 05:00:00')"
            ]
          },
          "metadata": {},
          "execution_count": 8
        }
      ]
    },
    {
      "cell_type": "code",
      "source": [
        "pd.to_datetime(['2017-1-1', '2017-1-2'])"
      ],
      "metadata": {
        "colab": {
          "base_uri": "https://localhost:8080/"
        },
        "id": "piwZCZ5kO3bk",
        "outputId": "a968ba9a-71c8-4524-9e78-5710344afa10"
      },
      "execution_count": null,
      "outputs": [
        {
          "output_type": "execute_result",
          "data": {
            "text/plain": [
              "DatetimeIndex(['2017-01-01', '2017-01-02'], dtype='datetime64[ns]', freq=None)"
            ]
          },
          "metadata": {},
          "execution_count": 6
        }
      ]
    },
    {
      "cell_type": "markdown",
      "source": [
        "We can access different parts of this date time using the respective keyword as a feature name."
      ],
      "metadata": {
        "id": "mZgWCTF7QezY"
      }
    },
    {
      "cell_type": "code",
      "source": [
        "date.year"
      ],
      "metadata": {
        "colab": {
          "base_uri": "https://localhost:8080/"
        },
        "id": "tC20ZpcaQnBb",
        "outputId": "2292f262-8d00-48db-f86a-d1b109bbbffc"
      },
      "execution_count": null,
      "outputs": [
        {
          "output_type": "execute_result",
          "data": {
            "text/plain": [
              "2017"
            ]
          },
          "metadata": {},
          "execution_count": 9
        }
      ]
    },
    {
      "cell_type": "code",
      "source": [
        "date.day"
      ],
      "metadata": {
        "colab": {
          "base_uri": "https://localhost:8080/"
        },
        "id": "MdhfAlS1QpwD",
        "outputId": "8395df9b-158f-4000-9203-52ccfcabe61a"
      },
      "execution_count": null,
      "outputs": [
        {
          "output_type": "execute_result",
          "data": {
            "text/plain": [
              "24"
            ]
          },
          "metadata": {},
          "execution_count": 10
        }
      ]
    },
    {
      "cell_type": "markdown",
      "source": [
        "> **Q. But what if we want to know the name of the month or the day of the week on that date ?**\n",
        "\n",
        "We can find it using `month_name()` and `day_name()` methods"
      ],
      "metadata": {
        "id": "HXrh96fKXYdZ"
      }
    },
    {
      "cell_type": "code",
      "execution_count": null,
      "metadata": {
        "id": "5549b282",
        "outputId": "1d722fc2-63ce-4909-d33b-be72193a2f05",
        "colab": {
          "base_uri": "https://localhost:8080/",
          "height": 35
        }
      },
      "outputs": [
        {
          "output_type": "execute_result",
          "data": {
            "text/plain": [
              "'January'"
            ],
            "application/vnd.google.colaboratory.intrinsic+json": {
              "type": "string"
            }
          },
          "metadata": {},
          "execution_count": 45
        }
      ],
      "source": [
        "date.month_name()"
      ]
    },
    {
      "cell_type": "code",
      "execution_count": null,
      "metadata": {
        "id": "8d604c3d",
        "outputId": "5ee578c0-0d6c-4a76-e582-18ebbf6be3ac",
        "colab": {
          "base_uri": "https://localhost:8080/",
          "height": 35
        }
      },
      "outputs": [
        {
          "output_type": "execute_result",
          "data": {
            "text/plain": [
              "'Friday'"
            ],
            "application/vnd.google.colaboratory.intrinsic+json": {
              "type": "string"
            }
          },
          "metadata": {},
          "execution_count": 46
        }
      ],
      "source": [
        "date.day_name()"
      ]
    },
    {
      "cell_type": "code",
      "execution_count": null,
      "metadata": {
        "id": "4c5159fd",
        "outputId": "ab54d4e6-00c7-45e1-bd20-0968fbdb19d4",
        "colab": {
          "base_uri": "https://localhost:8080/"
        }
      },
      "outputs": [
        {
          "output_type": "execute_result",
          "data": {
            "text/plain": [
              "4"
            ]
          },
          "metadata": {},
          "execution_count": 47
        }
      ],
      "source": [
        "date.dayofweek"
      ]
    },
    {
      "cell_type": "code",
      "execution_count": null,
      "metadata": {
        "id": "cd235ba6",
        "outputId": "1c6b0c74-8594-45a7-f73e-fe5defc52764",
        "colab": {
          "base_uri": "https://localhost:8080/"
        }
      },
      "outputs": [
        {
          "output_type": "execute_result",
          "data": {
            "text/plain": [
              "21"
            ]
          },
          "metadata": {},
          "execution_count": 48
        }
      ],
      "source": [
        "date.hour"
      ]
    },
    {
      "cell_type": "markdown",
      "metadata": {
        "id": "12604d43"
      },
      "source": [
        "... and so on\n",
        "\n",
        "- We can similarly extract minutes and seconds\n",
        "\n",
        "<br>\n",
        "\n",
        "To create a sequence of dates, you can use the `pd.date_range()` method. Let’s try it in the snippet:"
      ]
    },
    {
      "cell_type": "code",
      "source": [
        "week = pd.date_range('2022-2-7', periods=7)\n",
        "for day in week:\n",
        "    print('{}-{}\\t{}'.format(day.day_of_week, day.day_name(), day.date()))"
      ],
      "metadata": {
        "colab": {
          "base_uri": "https://localhost:8080/"
        },
        "id": "4my--g7SSioE",
        "outputId": "87df79ed-529c-4433-8dc1-a7ab5e483249"
      },
      "execution_count": null,
      "outputs": [
        {
          "output_type": "stream",
          "name": "stdout",
          "text": [
            "0-Monday\t2022-02-07\n",
            "1-Tuesday\t2022-02-08\n",
            "2-Wednesday\t2022-02-09\n",
            "3-Thursday\t2022-02-10\n",
            "4-Friday\t2022-02-11\n",
            "5-Saturday\t2022-02-12\n",
            "6-Sunday\t2022-02-13\n"
          ]
        }
      ]
    },
    {
      "cell_type": "markdown",
      "source": [
        "## pvalue"
      ],
      "metadata": {
        "id": "zJDDsFFBIUnE"
      }
    },
    {
      "cell_type": "markdown",
      "source": [
        "- A p-value is a **statistical measurement** used to validate a hypothesis against observed data.\n",
        "\n",
        "- A p-value measures the probability of obtaining the observed results, assuming that the null hypothesis is true.\n",
        "- The lower the p-value, the greater the statistical significance of the observed difference.\n",
        "- A p-value of **0.05** or lower is generally considered statistically significant.\n",
        "- P-value can serve as an alternative to or in addition to preselected confidence levels for hypothesis testing.\n",
        "\n",
        "When researchers identify an apparent relationship between two variables, there is always a possibility that this correlation might be a coincidence.\n",
        "\n",
        "A p-value calculation helps determine if the observed relationship could arise as a result of chance."
      ],
      "metadata": {
        "id": "PXqQrnCgIWTr"
      }
    },
    {
      "cell_type": "markdown",
      "source": [
        "## Further Reading\n",
        "- Pandas datetime: https://towardsdatascience.com/working-with-datetime-in-pandas-dataframe-663f7af6c587"
      ],
      "metadata": {
        "id": "VXGKNg2CR-Ur"
      }
    }
  ]
}